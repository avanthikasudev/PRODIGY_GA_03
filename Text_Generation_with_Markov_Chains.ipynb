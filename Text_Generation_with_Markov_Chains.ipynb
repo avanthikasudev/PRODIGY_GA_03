{
  "cells": [
    {
      "cell_type": "markdown",
      "source": [
        "Text Generation with Markov Chains"
      ],
      "metadata": {
        "id": "YM51Ua4HtQi5"
      },
      "id": "YM51Ua4HtQi5"
    },
    {
      "cell_type": "code",
      "execution_count": 7,
      "id": "a8479e70",
      "metadata": {
        "id": "a8479e70"
      },
      "outputs": [],
      "source": [
        "import random\n",
        "import re"
      ]
    },
    {
      "cell_type": "code",
      "execution_count": 8,
      "id": "d7ee69b1",
      "metadata": {
        "id": "d7ee69b1"
      },
      "outputs": [],
      "source": [
        "def read_input_file(filename):\n",
        "\n",
        "    with open(filename, \"r\", encoding=\"utf-8\") as f:\n",
        "        text = f.read().lower()\n",
        "    return re.findall(r\"\\b\\w+(?:[.!?])?\", text)"
      ]
    },
    {
      "cell_type": "code",
      "execution_count": 9,
      "id": "147a19c5",
      "metadata": {
        "id": "147a19c5"
      },
      "outputs": [],
      "source": [
        "def build_markov_chain(words, n=3):\n",
        "\n",
        "    chain = {}\n",
        "    for i in range(len(words) - n):\n",
        "        key = tuple(words[i:i+n])\n",
        "        next_word = words[i + n]\n",
        "        chain.setdefault(key, []).append(next_word)\n",
        "    return chain"
      ]
    },
    {
      "cell_type": "code",
      "execution_count": 10,
      "id": "e45231cd",
      "metadata": {
        "id": "e45231cd"
      },
      "outputs": [],
      "source": [
        "def generate_text(chain, start_words, max_length=50):\n",
        "\n",
        "    if start_words not in chain:\n",
        "        print(f\"\\n⚠️ Start words {start_words} not found in training data.\")\n",
        "        return \"\"\n",
        "\n",
        "    result = list(start_words)\n",
        "    while len(result) < max_length:\n",
        "        current_key = tuple(result[-3:])\n",
        "        next_words = chain.get(current_key)\n",
        "        if not next_words:\n",
        "            break\n",
        "        next_word = random.choice(next_words)\n",
        "        result.append(next_word)\n",
        "        if next_word.endswith(('.', '!', '?')):\n",
        "            break\n",
        "    return ' '.join(result).capitalize()"
      ]
    },
    {
      "cell_type": "code",
      "execution_count": 11,
      "id": "0cf409e7",
      "metadata": {
        "id": "0cf409e7"
      },
      "outputs": [],
      "source": [
        "def suggest_start_words(chain):\n",
        "\n",
        "    print(\"\\n💡 Example start words you can try:\")\n",
        "    for key in random.sample(list(chain.keys()), k=5):\n",
        "        print(\"•\", ' '.join(key))"
      ]
    },
    {
      "cell_type": "code",
      "execution_count": 13,
      "id": "0cd349ec",
      "metadata": {
        "colab": {
          "base_uri": "https://localhost:8080/"
        },
        "id": "0cd349ec",
        "outputId": "4653a397-c345-4d66-abec-a88f0d889418"
      },
      "outputs": [
        {
          "output_type": "stream",
          "name": "stdout",
          "text": [
            "📘 Text Generator using Markov Chains (Trigrams)\n",
            "\n",
            "\n",
            "💡 Example start words you can try:\n",
            "• prepared by human\n",
            "• industries like manufacturing\n",
            "• human skills despite\n",
            "• with high social\n",
            "• powered by ai\n",
            "\n",
            "🟢 Enter 3 start words: artificial intelligence is\n",
            "\n",
            "📝 Generated Text:\n",
            "\n",
            "Artificial intelligence is automating repetitive tasks in industries like manufacturing and logistics.\n"
          ]
        }
      ],
      "source": [
        "def main():\n",
        "    words = read_input_file(\"input.txt\")\n",
        "    markov_chain = build_markov_chain(words)\n",
        "\n",
        "    print(\"📘 Text Generator using Markov Chains (Trigrams)\\n\")\n",
        "    suggest_start_words(markov_chain)\n",
        "\n",
        "    user_input = input(\"\\n🟢 Enter 3 start words: \").strip().lower().split()\n",
        "\n",
        "    if len(user_input) != 3:\n",
        "        print(\"⚠️ Please enter exactly three words.\")\n",
        "        return\n",
        "\n",
        "    start_tuple = tuple(user_input)\n",
        "    output = generate_text(markov_chain, start_tuple)\n",
        "\n",
        "    if output:\n",
        "        print(\"\\n📝 Generated Text:\\n\")\n",
        "        print(output)\n",
        "\n",
        "if __name__ == \"__main__\":\n",
        "    main()\n"
      ]
    },
    {
      "cell_type": "code",
      "execution_count": 13,
      "id": "73167003",
      "metadata": {
        "id": "73167003"
      },
      "outputs": [],
      "source": []
    }
  ],
  "metadata": {
    "kernelspec": {
      "display_name": "Python 3 (ipykernel)",
      "language": "python",
      "name": "python3"
    },
    "language_info": {
      "codemirror_mode": {
        "name": "ipython",
        "version": 3
      },
      "file_extension": ".py",
      "mimetype": "text/x-python",
      "name": "python",
      "nbconvert_exporter": "python",
      "pygments_lexer": "ipython3",
      "version": "3.9.12"
    },
    "colab": {
      "provenance": []
    }
  },
  "nbformat": 4,
  "nbformat_minor": 5
}